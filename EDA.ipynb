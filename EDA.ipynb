{
 "cells": [
  {
   "cell_type": "markdown",
   "metadata": {},
   "source": [
    "- Librerias a usar para realizar el EDA"
   ]
  },
  {
   "cell_type": "code",
   "execution_count": 26,
   "metadata": {},
   "outputs": [],
   "source": [
    "import pandas as pd\n",
    "import numpy as np\n",
    "from datetime import datetime\n",
    "\n",
    "import matplotlib.pylab as plt\n",
    "from matplotlib.colors import Normalize\n",
    "import matplotlib.pyplot as plt\n",
    "import seaborn as sns"
   ]
  },
  {
   "cell_type": "markdown",
   "metadata": {},
   "source": [
    "                                                                                    EDA - REVIEWS"
   ]
  },
  {
   "cell_type": "code",
   "execution_count": 2,
   "metadata": {},
   "outputs": [],
   "source": [
    "df_review = pd.read_csv('reviews.csv')"
   ]
  },
  {
   "cell_type": "markdown",
   "metadata": {},
   "source": [
    "- Informacion"
   ]
  },
  {
   "cell_type": "code",
   "execution_count": 3,
   "metadata": {},
   "outputs": [
    {
     "data": {
      "text/html": [
       "<div>\n",
       "<style scoped>\n",
       "    .dataframe tbody tr th:only-of-type {\n",
       "        vertical-align: middle;\n",
       "    }\n",
       "\n",
       "    .dataframe tbody tr th {\n",
       "        vertical-align: top;\n",
       "    }\n",
       "\n",
       "    .dataframe thead th {\n",
       "        text-align: right;\n",
       "    }\n",
       "</style>\n",
       "<table border=\"1\" class=\"dataframe\">\n",
       "  <thead>\n",
       "    <tr style=\"text-align: right;\">\n",
       "      <th></th>\n",
       "      <th>user_id</th>\n",
       "      <th>user_url</th>\n",
       "      <th>item_id</th>\n",
       "      <th>posted_date</th>\n",
       "      <th>recommend</th>\n",
       "      <th>sentiment_analysis</th>\n",
       "    </tr>\n",
       "  </thead>\n",
       "  <tbody>\n",
       "    <tr>\n",
       "      <th>0</th>\n",
       "      <td>76561197970982479</td>\n",
       "      <td>http://steamcommunity.com/profiles/76561197970...</td>\n",
       "      <td>1250</td>\n",
       "      <td>2011-11-05</td>\n",
       "      <td>1</td>\n",
       "      <td>2</td>\n",
       "    </tr>\n",
       "    <tr>\n",
       "      <th>1</th>\n",
       "      <td>76561197970982479</td>\n",
       "      <td>http://steamcommunity.com/profiles/76561197970...</td>\n",
       "      <td>22200</td>\n",
       "      <td>2011-07-15</td>\n",
       "      <td>1</td>\n",
       "      <td>2</td>\n",
       "    </tr>\n",
       "    <tr>\n",
       "      <th>2</th>\n",
       "      <td>76561197970982479</td>\n",
       "      <td>http://steamcommunity.com/profiles/76561197970...</td>\n",
       "      <td>43110</td>\n",
       "      <td>2011-04-21</td>\n",
       "      <td>1</td>\n",
       "      <td>1</td>\n",
       "    </tr>\n",
       "    <tr>\n",
       "      <th>3</th>\n",
       "      <td>js41637</td>\n",
       "      <td>http://steamcommunity.com/id/js41637</td>\n",
       "      <td>251610</td>\n",
       "      <td>2014-06-24</td>\n",
       "      <td>1</td>\n",
       "      <td>1</td>\n",
       "    </tr>\n",
       "    <tr>\n",
       "      <th>4</th>\n",
       "      <td>js41637</td>\n",
       "      <td>http://steamcommunity.com/id/js41637</td>\n",
       "      <td>227300</td>\n",
       "      <td>2013-09-08</td>\n",
       "      <td>1</td>\n",
       "      <td>1</td>\n",
       "    </tr>\n",
       "    <tr>\n",
       "      <th>...</th>\n",
       "      <td>...</td>\n",
       "      <td>...</td>\n",
       "      <td>...</td>\n",
       "      <td>...</td>\n",
       "      <td>...</td>\n",
       "      <td>...</td>\n",
       "    </tr>\n",
       "    <tr>\n",
       "      <th>59300</th>\n",
       "      <td>76561198312638244</td>\n",
       "      <td>http://steamcommunity.com/profiles/76561198312...</td>\n",
       "      <td>70</td>\n",
       "      <td>NaN</td>\n",
       "      <td>1</td>\n",
       "      <td>2</td>\n",
       "    </tr>\n",
       "    <tr>\n",
       "      <th>59301</th>\n",
       "      <td>76561198312638244</td>\n",
       "      <td>http://steamcommunity.com/profiles/76561198312...</td>\n",
       "      <td>362890</td>\n",
       "      <td>NaN</td>\n",
       "      <td>1</td>\n",
       "      <td>1</td>\n",
       "    </tr>\n",
       "    <tr>\n",
       "      <th>59302</th>\n",
       "      <td>LydiaMorley</td>\n",
       "      <td>http://steamcommunity.com/id/LydiaMorley</td>\n",
       "      <td>273110</td>\n",
       "      <td>NaN</td>\n",
       "      <td>1</td>\n",
       "      <td>1</td>\n",
       "    </tr>\n",
       "    <tr>\n",
       "      <th>59303</th>\n",
       "      <td>LydiaMorley</td>\n",
       "      <td>http://steamcommunity.com/id/LydiaMorley</td>\n",
       "      <td>730</td>\n",
       "      <td>NaN</td>\n",
       "      <td>1</td>\n",
       "      <td>1</td>\n",
       "    </tr>\n",
       "    <tr>\n",
       "      <th>59304</th>\n",
       "      <td>LydiaMorley</td>\n",
       "      <td>http://steamcommunity.com/id/LydiaMorley</td>\n",
       "      <td>440</td>\n",
       "      <td>NaN</td>\n",
       "      <td>1</td>\n",
       "      <td>2</td>\n",
       "    </tr>\n",
       "  </tbody>\n",
       "</table>\n",
       "<p>59305 rows × 6 columns</p>\n",
       "</div>"
      ],
      "text/plain": [
       "                 user_id                                           user_url  \\\n",
       "0      76561197970982479  http://steamcommunity.com/profiles/76561197970...   \n",
       "1      76561197970982479  http://steamcommunity.com/profiles/76561197970...   \n",
       "2      76561197970982479  http://steamcommunity.com/profiles/76561197970...   \n",
       "3                js41637               http://steamcommunity.com/id/js41637   \n",
       "4                js41637               http://steamcommunity.com/id/js41637   \n",
       "...                  ...                                                ...   \n",
       "59300  76561198312638244  http://steamcommunity.com/profiles/76561198312...   \n",
       "59301  76561198312638244  http://steamcommunity.com/profiles/76561198312...   \n",
       "59302        LydiaMorley           http://steamcommunity.com/id/LydiaMorley   \n",
       "59303        LydiaMorley           http://steamcommunity.com/id/LydiaMorley   \n",
       "59304        LydiaMorley           http://steamcommunity.com/id/LydiaMorley   \n",
       "\n",
       "       item_id posted_date  recommend  sentiment_analysis  \n",
       "0         1250  2011-11-05          1                   2  \n",
       "1        22200  2011-07-15          1                   2  \n",
       "2        43110  2011-04-21          1                   1  \n",
       "3       251610  2014-06-24          1                   1  \n",
       "4       227300  2013-09-08          1                   1  \n",
       "...        ...         ...        ...                 ...  \n",
       "59300       70         NaN          1                   2  \n",
       "59301   362890         NaN          1                   1  \n",
       "59302   273110         NaN          1                   1  \n",
       "59303      730         NaN          1                   1  \n",
       "59304      440         NaN          1                   2  \n",
       "\n",
       "[59305 rows x 6 columns]"
      ]
     },
     "execution_count": 3,
     "metadata": {},
     "output_type": "execute_result"
    }
   ],
   "source": [
    "df_review"
   ]
  },
  {
   "cell_type": "code",
   "execution_count": 4,
   "metadata": {},
   "outputs": [
    {
     "name": "stdout",
     "output_type": "stream",
     "text": [
      "<class 'pandas.core.frame.DataFrame'>\n",
      "RangeIndex: 59305 entries, 0 to 59304\n",
      "Data columns (total 6 columns):\n",
      " #   Column              Non-Null Count  Dtype \n",
      "---  ------              --------------  ----- \n",
      " 0   user_id             59305 non-null  object\n",
      " 1   user_url            59305 non-null  object\n",
      " 2   item_id             59305 non-null  int64 \n",
      " 3   posted_date         49186 non-null  object\n",
      " 4   recommend           59305 non-null  int64 \n",
      " 5   sentiment_analysis  59305 non-null  int64 \n",
      "dtypes: int64(3), object(3)\n",
      "memory usage: 2.7+ MB\n"
     ]
    }
   ],
   "source": [
    "df_review.info()"
   ]
  },
  {
   "cell_type": "markdown",
   "metadata": {},
   "source": [
    "Se puede ver que hay '59305' archivos que se encuentran en 4 columnas, y las columnas 'recommend' 'sentiment_analysis' fueron creadas para crear las funciones de analisis de sentiemnto. El archvio tiene una dimension de 2.7 MB. "
   ]
  },
  {
   "cell_type": "markdown",
   "metadata": {},
   "source": [
    "- Datos faltantes"
   ]
  },
  {
   "cell_type": "code",
   "execution_count": 10,
   "metadata": {},
   "outputs": [
    {
     "name": "stdout",
     "output_type": "stream",
     "text": [
      "Hay valores faltantes en el DataFrame.\n",
      "No hay valores faltantes en 'user_id'.\n",
      "No hay valores faltantes en 'user_url'.\n",
      "No hay valores faltantes en 'item_id'.\n",
      "Hay valores faltantes en 'posted_date'.\n"
     ]
    }
   ],
   "source": [
    "valores_faltantes_totales = df_review.isna().any().any()\n",
    "if valores_faltantes_totales:\n",
    "    print(\"Hay valores faltantes en el DataFrame.\")\n",
    "else:\n",
    "    print(\"No hay valores faltantes en el DataFrame.\")\n",
    "\n",
    "# Para verificar si hay valores faltantes en columnas específicas:\n",
    "valores_faltantes_columna1 = df_review['user_id'].isna().any()\n",
    "valores_faltantes_columna2 = df_review['user_url'].isna().any()\n",
    "valores_faltantes_columna3 = df_review['item_id'].isna().any()\n",
    "valores_faltantes_columna4 = df_review['posted_date'].isna().any()\n",
    "\n",
    "if valores_faltantes_columna1:\n",
    "    print(\"Hay valores faltantes en 'user_id'.\")\n",
    "else:\n",
    "    print(\"No hay valores faltantes en 'user_id'.\")\n",
    "\n",
    "if valores_faltantes_columna2:\n",
    "    print(\"Hay valores faltantes en 'user_url'.\")\n",
    "else:\n",
    "    print(\"No hay valores faltantes en 'user_url'.\")\n",
    "\n",
    "if valores_faltantes_columna3:\n",
    "    print(\"Hay valores faltantes en 'item_id'.\")\n",
    "else:\n",
    "    print(\"No hay valores faltantes en 'item_id'.\")\n",
    "\n",
    "if valores_faltantes_columna4:\n",
    "    print(\"Hay valores faltantes en 'posted_date'.\")\n",
    "else:\n",
    "    print(\"No hay valores faltantes en 'posted_date'.\")\n"
   ]
  },
  {
   "cell_type": "code",
   "execution_count": 11,
   "metadata": {},
   "outputs": [
    {
     "name": "stdout",
     "output_type": "stream",
     "text": [
      "Total de valores faltantes en el DataFrame:  10119\n"
     ]
    }
   ],
   "source": [
    "valores_faltantes = df_review.isna().sum().sum()\n",
    "print(\"Total de valores faltantes en el DataFrame: \", valores_faltantes)"
   ]
  },
  {
   "cell_type": "code",
   "execution_count": 12,
   "metadata": {},
   "outputs": [
    {
     "name": "stdout",
     "output_type": "stream",
     "text": [
      "Valores faltantes en 'columna4':  10119\n"
     ]
    }
   ],
   "source": [
    "valores_faltantes_columna4 = df_review['posted_date'].isna().sum()\n",
    "\n",
    "print(\"Valores faltantes en 'columna4': \", valores_faltantes_columna4)\n"
   ]
  },
  {
   "cell_type": "markdown",
   "metadata": {},
   "source": [
    "   Conclusion faltan : se puede ver que solo faltan '10119' que son de la parte de 'posted_date'"
   ]
  },
  {
   "cell_type": "markdown",
   "metadata": {},
   "source": [
    "- Datos duplicados"
   ]
  },
  {
   "cell_type": "code",
   "execution_count": 13,
   "metadata": {},
   "outputs": [
    {
     "name": "stdout",
     "output_type": "stream",
     "text": [
      "Hay datos duplicados en el DataFrame.\n"
     ]
    }
   ],
   "source": [
    "hay_duplicados = df_review.duplicated().any()\n",
    "\n",
    "if hay_duplicados:\n",
    "    print(\"Hay datos duplicados en el DataFrame.\")\n",
    "else:\n",
    "    print(\"No hay datos duplicados en el DataFrame.\")\n"
   ]
  },
  {
   "cell_type": "code",
   "execution_count": 16,
   "metadata": {},
   "outputs": [
    {
     "name": "stdout",
     "output_type": "stream",
     "text": [
      "Hay datos duplicados en 'user_id'.\n",
      "Hay datos duplicados en 'user_url'.\n",
      "Hay datos duplicados en 'item_id'.\n",
      "Hay datos duplicados en 'posted_date'.\n"
     ]
    }
   ],
   "source": [
    "hay_duplicados_columna1 = df_review['user_id'].duplicated().any()\n",
    "\n",
    "if hay_duplicados_columna1:\n",
    "    print(\"Hay datos duplicados en 'user_id'.\")\n",
    "else:\n",
    "    print(\"No hay datos duplicados en 'user_id'.\")\n",
    "\n",
    "if hay_duplicados_columna1:\n",
    "    print(\"Hay datos duplicados en 'user_url'.\")\n",
    "else:\n",
    "    print(\"No hay datos duplicados en 'user_url'.\")\n",
    "\n",
    "if hay_duplicados_columna1:\n",
    "    print(\"Hay datos duplicados en 'item_id'.\")\n",
    "else:\n",
    "    print(\"No hay datos duplicados en 'item_id'.\")\n",
    "\n",
    "if hay_duplicados_columna1:\n",
    "    print(\"Hay datos duplicados en 'posted_date'.\")\n",
    "else:\n",
    "    print(\"No hay datos duplicados en 'posted_date'.\")\n"
   ]
  },
  {
   "cell_type": "code",
   "execution_count": 87,
   "metadata": {},
   "outputs": [
    {
     "name": "stdout",
     "output_type": "stream",
     "text": [
      "Total de datos duplicados en el DataFrame:  874\n"
     ]
    }
   ],
   "source": [
    "datos_duplicados = df_review.duplicated().sum()\n",
    "print(\"Total de datos duplicados en el DataFrame: \", datos_duplicados)"
   ]
  },
  {
   "cell_type": "code",
   "execution_count": 79,
   "metadata": {},
   "outputs": [
    {
     "name": "stdout",
     "output_type": "stream",
     "text": [
      "Datos duplicados en 'user_id':  33847\n",
      "Datos duplicados en 'user_url':  33847\n",
      "Datos duplicados en 'item_id':  55623\n",
      "Datos duplicados en 'posted_date':  57660\n"
     ]
    }
   ],
   "source": [
    "datos_duplicados_columna1 = df_review['user_id'].duplicated().sum()\n",
    "print(\"Datos duplicados en 'user_id': \", datos_duplicados_columna1)\n",
    "\n",
    "datos_duplicados_columna2 = df_review['user_url'].duplicated().sum()\n",
    "print(\"Datos duplicados en 'user_url': \", datos_duplicados_columna2)\n",
    "\n",
    "datos_duplicados_columna3 = df_review['item_id'].duplicated().sum()\n",
    "print(\"Datos duplicados en 'item_id': \", datos_duplicados_columna3)\n",
    "\n",
    "datos_duplicados_columna4 = df_review['posted_date'].duplicated().sum()\n",
    "print(\"Datos duplicados en 'posted_date': \", datos_duplicados_columna4)\n"
   ]
  },
  {
   "cell_type": "markdown",
   "metadata": {},
   "source": [
    "\n",
    "Conclusion duplicados: faltan en 'user_id':  33847, 'user_url':  33847, 'item_id':  55623,  'posted_date':  57660."
   ]
  },
  {
   "cell_type": "markdown",
   "metadata": {},
   "source": [
    "- Datos atipicos"
   ]
  },
  {
   "cell_type": "code",
   "execution_count": 38,
   "metadata": {},
   "outputs": [
    {
     "data": {
      "image/png": "[encoded data removed]",
      "text/plain": [
       "<Figure size 640x480 with 1 Axes>"
      ]
     },
     "metadata": {},
     "output_type": "display_data"
    },
    {
     "data": {
      "text/plain": [
       "252830.0"
      ]
     },
     "execution_count": 38,
     "metadata": {},
     "output_type": "execute_result"
    }
   ],
   "source": [
    "df_review['item_id'].plot(kind='box')\n",
    "plt.show()\n",
    "# Supongamos que tienes un DataFrame llamado df_reviews y quieres analizar 'columna1'\n",
    "columna3 = df_review['item_id']\n",
    "Q1 = columna3.quantile(0.25)\n",
    "Q3 = columna3.quantile(0.75)\n",
    "IQR = Q3 - Q1\n",
    "IQR"
   ]
  },
  {
   "cell_type": "markdown",
   "metadata": {},
   "source": [
    "Diagrama de Caja (Boxplot):\n",
    "\n",
    "Un diagrama de caja (boxplot) es una herramienta gráfica que se utiliza para representar la distribución de un conjunto de datos. Está diseñado para mostrar la distribución de los datos, identificar valores atípicos (outliers) y proporcionar una representación visual de medidas estadísticas clave como el rango intercuartil (IQR), los cuartiles, la mediana y los valores extremos.\n",
    "\n",
    "El diagrama de caja se compone de los siguientes componentes:\n",
    "\n",
    "- Caja (Box): La caja representa el rango intercuartil (IQR), que es la distancia entre el primer cuartil (Q1) y el tercer cuartil (Q3). El IQR contiene la \"mayoría\" de los datos.\n",
    "\n",
    "- Línea Central en la Caja: Esta línea representa la mediana del conjunto de datos.\n",
    "\n",
    "- Bigotes (Whiskers): Los bigotes se extienden desde la caja y muestran la extensión de los datos. A menudo, se utilizan como un indicador visual de la variabilidad de los datos.\n",
    "\n",
    "El valor que obtuve, '252830.0' , es el resultado del cálculo del rango intercuartil (IQR) "
   ]
  },
  {
   "cell_type": "markdown",
   "metadata": {},
   "source": [
    "                                                                                      EDA - STEAM"
   ]
  },
  {
   "cell_type": "code",
   "execution_count": 39,
   "metadata": {},
   "outputs": [],
   "source": [
    "df_steam= pd.read_csv('steam.csv')"
   ]
  },
  {
   "cell_type": "markdown",
   "metadata": {},
   "source": [
    "- Informacion"
   ]
  },
  {
   "cell_type": "code",
   "execution_count": 41,
   "metadata": {},
   "outputs": [
    {
     "data": {
      "text/html": [
       "<div>\n",
       "<style scoped>\n",
       "    .dataframe tbody tr th:only-of-type {\n",
       "        vertical-align: middle;\n",
       "    }\n",
       "\n",
       "    .dataframe tbody tr th {\n",
       "        vertical-align: top;\n",
       "    }\n",
       "\n",
       "    .dataframe thead th {\n",
       "        text-align: right;\n",
       "    }\n",
       "</style>\n",
       "<table border=\"1\" class=\"dataframe\">\n",
       "  <thead>\n",
       "    <tr style=\"text-align: right;\">\n",
       "      <th></th>\n",
       "      <th>title</th>\n",
       "      <th>url</th>\n",
       "      <th>price</th>\n",
       "      <th>early_access</th>\n",
       "      <th>item_id</th>\n",
       "      <th>developer</th>\n",
       "      <th>Web Publishing</th>\n",
       "      <th>Indie</th>\n",
       "      <th>Education</th>\n",
       "      <th>Animation &amp;amp; Modeling</th>\n",
       "      <th>...</th>\n",
       "      <th>Audio Production</th>\n",
       "      <th>Adventure</th>\n",
       "      <th>Racing</th>\n",
       "      <th>Simulation</th>\n",
       "      <th>Sports</th>\n",
       "      <th>Strategy</th>\n",
       "      <th>Action</th>\n",
       "      <th>Design &amp;amp; Illustration</th>\n",
       "      <th>Free to Play</th>\n",
       "      <th>release_year</th>\n",
       "    </tr>\n",
       "  </thead>\n",
       "  <tbody>\n",
       "    <tr>\n",
       "      <th>0</th>\n",
       "      <td>Lost Summoner Kitty</td>\n",
       "      <td>http://store.steampowered.com/app/761140/Lost_...</td>\n",
       "      <td>4.99</td>\n",
       "      <td>0</td>\n",
       "      <td>761140</td>\n",
       "      <td>Kotoshiro</td>\n",
       "      <td>0</td>\n",
       "      <td>1</td>\n",
       "      <td>0</td>\n",
       "      <td>0</td>\n",
       "      <td>...</td>\n",
       "      <td>0</td>\n",
       "      <td>0</td>\n",
       "      <td>0</td>\n",
       "      <td>1</td>\n",
       "      <td>0</td>\n",
       "      <td>1</td>\n",
       "      <td>1</td>\n",
       "      <td>0</td>\n",
       "      <td>0</td>\n",
       "      <td>2018.0</td>\n",
       "    </tr>\n",
       "    <tr>\n",
       "      <th>1</th>\n",
       "      <td>Ironbound</td>\n",
       "      <td>http://store.steampowered.com/app/643980/Ironb...</td>\n",
       "      <td>0.00</td>\n",
       "      <td>0</td>\n",
       "      <td>643980</td>\n",
       "      <td>Secret Level SRL</td>\n",
       "      <td>0</td>\n",
       "      <td>1</td>\n",
       "      <td>0</td>\n",
       "      <td>0</td>\n",
       "      <td>...</td>\n",
       "      <td>0</td>\n",
       "      <td>0</td>\n",
       "      <td>0</td>\n",
       "      <td>0</td>\n",
       "      <td>0</td>\n",
       "      <td>1</td>\n",
       "      <td>0</td>\n",
       "      <td>0</td>\n",
       "      <td>1</td>\n",
       "      <td>2018.0</td>\n",
       "    </tr>\n",
       "    <tr>\n",
       "      <th>2</th>\n",
       "      <td>Real Pool 3D - Poolians</td>\n",
       "      <td>http://store.steampowered.com/app/670290/Real_...</td>\n",
       "      <td>0.00</td>\n",
       "      <td>0</td>\n",
       "      <td>670290</td>\n",
       "      <td>Poolians.com</td>\n",
       "      <td>0</td>\n",
       "      <td>1</td>\n",
       "      <td>0</td>\n",
       "      <td>0</td>\n",
       "      <td>...</td>\n",
       "      <td>0</td>\n",
       "      <td>0</td>\n",
       "      <td>0</td>\n",
       "      <td>1</td>\n",
       "      <td>1</td>\n",
       "      <td>0</td>\n",
       "      <td>0</td>\n",
       "      <td>0</td>\n",
       "      <td>1</td>\n",
       "      <td>2017.0</td>\n",
       "    </tr>\n",
       "    <tr>\n",
       "      <th>3</th>\n",
       "      <td>弹炸人2222</td>\n",
       "      <td>http://store.steampowered.com/app/767400/2222/</td>\n",
       "      <td>0.99</td>\n",
       "      <td>0</td>\n",
       "      <td>767400</td>\n",
       "      <td>彼岸领域</td>\n",
       "      <td>0</td>\n",
       "      <td>0</td>\n",
       "      <td>0</td>\n",
       "      <td>0</td>\n",
       "      <td>...</td>\n",
       "      <td>0</td>\n",
       "      <td>1</td>\n",
       "      <td>0</td>\n",
       "      <td>0</td>\n",
       "      <td>0</td>\n",
       "      <td>0</td>\n",
       "      <td>1</td>\n",
       "      <td>0</td>\n",
       "      <td>0</td>\n",
       "      <td>2017.0</td>\n",
       "    </tr>\n",
       "    <tr>\n",
       "      <th>4</th>\n",
       "      <td>NaN</td>\n",
       "      <td>http://store.steampowered.com/app/773570/Log_C...</td>\n",
       "      <td>2.99</td>\n",
       "      <td>0</td>\n",
       "      <td>773570</td>\n",
       "      <td>NaN</td>\n",
       "      <td>0</td>\n",
       "      <td>0</td>\n",
       "      <td>0</td>\n",
       "      <td>0</td>\n",
       "      <td>...</td>\n",
       "      <td>0</td>\n",
       "      <td>0</td>\n",
       "      <td>0</td>\n",
       "      <td>0</td>\n",
       "      <td>0</td>\n",
       "      <td>0</td>\n",
       "      <td>0</td>\n",
       "      <td>0</td>\n",
       "      <td>0</td>\n",
       "      <td>NaN</td>\n",
       "    </tr>\n",
       "    <tr>\n",
       "      <th>...</th>\n",
       "      <td>...</td>\n",
       "      <td>...</td>\n",
       "      <td>...</td>\n",
       "      <td>...</td>\n",
       "      <td>...</td>\n",
       "      <td>...</td>\n",
       "      <td>...</td>\n",
       "      <td>...</td>\n",
       "      <td>...</td>\n",
       "      <td>...</td>\n",
       "      <td>...</td>\n",
       "      <td>...</td>\n",
       "      <td>...</td>\n",
       "      <td>...</td>\n",
       "      <td>...</td>\n",
       "      <td>...</td>\n",
       "      <td>...</td>\n",
       "      <td>...</td>\n",
       "      <td>...</td>\n",
       "      <td>...</td>\n",
       "      <td>...</td>\n",
       "    </tr>\n",
       "    <tr>\n",
       "      <th>32128</th>\n",
       "      <td>Colony On Mars</td>\n",
       "      <td>http://store.steampowered.com/app/773640/Colon...</td>\n",
       "      <td>1.99</td>\n",
       "      <td>0</td>\n",
       "      <td>773640</td>\n",
       "      <td>Nikita \"Ghost_RUS\"</td>\n",
       "      <td>0</td>\n",
       "      <td>1</td>\n",
       "      <td>0</td>\n",
       "      <td>0</td>\n",
       "      <td>...</td>\n",
       "      <td>0</td>\n",
       "      <td>0</td>\n",
       "      <td>0</td>\n",
       "      <td>1</td>\n",
       "      <td>0</td>\n",
       "      <td>1</td>\n",
       "      <td>0</td>\n",
       "      <td>0</td>\n",
       "      <td>0</td>\n",
       "      <td>2018.0</td>\n",
       "    </tr>\n",
       "    <tr>\n",
       "      <th>32129</th>\n",
       "      <td>LOGistICAL: South Africa</td>\n",
       "      <td>http://store.steampowered.com/app/733530/LOGis...</td>\n",
       "      <td>4.99</td>\n",
       "      <td>0</td>\n",
       "      <td>733530</td>\n",
       "      <td>Sacada</td>\n",
       "      <td>0</td>\n",
       "      <td>1</td>\n",
       "      <td>0</td>\n",
       "      <td>0</td>\n",
       "      <td>...</td>\n",
       "      <td>0</td>\n",
       "      <td>0</td>\n",
       "      <td>0</td>\n",
       "      <td>0</td>\n",
       "      <td>0</td>\n",
       "      <td>1</td>\n",
       "      <td>0</td>\n",
       "      <td>0</td>\n",
       "      <td>0</td>\n",
       "      <td>2018.0</td>\n",
       "    </tr>\n",
       "    <tr>\n",
       "      <th>32130</th>\n",
       "      <td>Russian Roads</td>\n",
       "      <td>http://store.steampowered.com/app/610660/Russi...</td>\n",
       "      <td>1.99</td>\n",
       "      <td>0</td>\n",
       "      <td>610660</td>\n",
       "      <td>Laush Dmitriy Sergeevich</td>\n",
       "      <td>0</td>\n",
       "      <td>1</td>\n",
       "      <td>0</td>\n",
       "      <td>0</td>\n",
       "      <td>...</td>\n",
       "      <td>0</td>\n",
       "      <td>0</td>\n",
       "      <td>1</td>\n",
       "      <td>1</td>\n",
       "      <td>0</td>\n",
       "      <td>0</td>\n",
       "      <td>0</td>\n",
       "      <td>0</td>\n",
       "      <td>0</td>\n",
       "      <td>2018.0</td>\n",
       "    </tr>\n",
       "    <tr>\n",
       "      <th>32131</th>\n",
       "      <td>EXIT 2 - Directions</td>\n",
       "      <td>http://store.steampowered.com/app/658870/EXIT_...</td>\n",
       "      <td>4.99</td>\n",
       "      <td>0</td>\n",
       "      <td>658870</td>\n",
       "      <td>xropi,stev3ns</td>\n",
       "      <td>0</td>\n",
       "      <td>1</td>\n",
       "      <td>0</td>\n",
       "      <td>0</td>\n",
       "      <td>...</td>\n",
       "      <td>0</td>\n",
       "      <td>0</td>\n",
       "      <td>0</td>\n",
       "      <td>0</td>\n",
       "      <td>0</td>\n",
       "      <td>0</td>\n",
       "      <td>0</td>\n",
       "      <td>0</td>\n",
       "      <td>0</td>\n",
       "      <td>2017.0</td>\n",
       "    </tr>\n",
       "    <tr>\n",
       "      <th>32132</th>\n",
       "      <td>NaN</td>\n",
       "      <td>http://store.steampowered.com/app/681550/Maze_...</td>\n",
       "      <td>4.99</td>\n",
       "      <td>1</td>\n",
       "      <td>681550</td>\n",
       "      <td>NaN</td>\n",
       "      <td>0</td>\n",
       "      <td>0</td>\n",
       "      <td>0</td>\n",
       "      <td>0</td>\n",
       "      <td>...</td>\n",
       "      <td>0</td>\n",
       "      <td>0</td>\n",
       "      <td>0</td>\n",
       "      <td>0</td>\n",
       "      <td>0</td>\n",
       "      <td>0</td>\n",
       "      <td>0</td>\n",
       "      <td>0</td>\n",
       "      <td>0</td>\n",
       "      <td>NaN</td>\n",
       "    </tr>\n",
       "  </tbody>\n",
       "</table>\n",
       "<p>32133 rows × 29 columns</p>\n",
       "</div>"
      ],
      "text/plain": [
       "                          title  \\\n",
       "0           Lost Summoner Kitty   \n",
       "1                     Ironbound   \n",
       "2       Real Pool 3D - Poolians   \n",
       "3                       弹炸人2222   \n",
       "4                           NaN   \n",
       "...                         ...   \n",
       "32128            Colony On Mars   \n",
       "32129  LOGistICAL: South Africa   \n",
       "32130             Russian Roads   \n",
       "32131       EXIT 2 - Directions   \n",
       "32132                       NaN   \n",
       "\n",
       "                                                     url  price  early_access  \\\n",
       "0      http://store.steampowered.com/app/761140/Lost_...   4.99             0   \n",
       "1      http://store.steampowered.com/app/643980/Ironb...   0.00             0   \n",
       "2      http://store.steampowered.com/app/670290/Real_...   0.00             0   \n",
       "3         http://store.steampowered.com/app/767400/2222/   0.99             0   \n",
       "4      http://store.steampowered.com/app/773570/Log_C...   2.99             0   \n",
       "...                                                  ...    ...           ...   \n",
       "32128  http://store.steampowered.com/app/773640/Colon...   1.99             0   \n",
       "32129  http://store.steampowered.com/app/733530/LOGis...   4.99             0   \n",
       "32130  http://store.steampowered.com/app/610660/Russi...   1.99             0   \n",
       "32131  http://store.steampowered.com/app/658870/EXIT_...   4.99             0   \n",
       "32132  http://store.steampowered.com/app/681550/Maze_...   4.99             1   \n",
       "\n",
       "       item_id                 developer  Web Publishing  Indie  Education  \\\n",
       "0       761140                 Kotoshiro               0      1          0   \n",
       "1       643980          Secret Level SRL               0      1          0   \n",
       "2       670290              Poolians.com               0      1          0   \n",
       "3       767400                      彼岸领域               0      0          0   \n",
       "4       773570                       NaN               0      0          0   \n",
       "...        ...                       ...             ...    ...        ...   \n",
       "32128   773640        Nikita \"Ghost_RUS\"               0      1          0   \n",
       "32129   733530                    Sacada               0      1          0   \n",
       "32130   610660  Laush Dmitriy Sergeevich               0      1          0   \n",
       "32131   658870             xropi,stev3ns               0      1          0   \n",
       "32132   681550                       NaN               0      0          0   \n",
       "\n",
       "       Animation &amp; Modeling  ...  Audio Production  Adventure  Racing  \\\n",
       "0                             0  ...                 0          0       0   \n",
       "1                             0  ...                 0          0       0   \n",
       "2                             0  ...                 0          0       0   \n",
       "3                             0  ...                 0          1       0   \n",
       "4                             0  ...                 0          0       0   \n",
       "...                         ...  ...               ...        ...     ...   \n",
       "32128                         0  ...                 0          0       0   \n",
       "32129                         0  ...                 0          0       0   \n",
       "32130                         0  ...                 0          0       1   \n",
       "32131                         0  ...                 0          0       0   \n",
       "32132                         0  ...                 0          0       0   \n",
       "\n",
       "       Simulation  Sports  Strategy  Action  Design &amp; Illustration  \\\n",
       "0               1       0         1       1                          0   \n",
       "1               0       0         1       0                          0   \n",
       "2               1       1         0       0                          0   \n",
       "3               0       0         0       1                          0   \n",
       "4               0       0         0       0                          0   \n",
       "...           ...     ...       ...     ...                        ...   \n",
       "32128           1       0         1       0                          0   \n",
       "32129           0       0         1       0                          0   \n",
       "32130           1       0         0       0                          0   \n",
       "32131           0       0         0       0                          0   \n",
       "32132           0       0         0       0                          0   \n",
       "\n",
       "       Free to Play  release_year  \n",
       "0                 0        2018.0  \n",
       "1                 1        2018.0  \n",
       "2                 1        2017.0  \n",
       "3                 0        2017.0  \n",
       "4                 0           NaN  \n",
       "...             ...           ...  \n",
       "32128             0        2018.0  \n",
       "32129             0        2018.0  \n",
       "32130             0        2018.0  \n",
       "32131             0        2017.0  \n",
       "32132             0           NaN  \n",
       "\n",
       "[32133 rows x 29 columns]"
      ]
     },
     "execution_count": 41,
     "metadata": {},
     "output_type": "execute_result"
    }
   ],
   "source": [
    "df_steam"
   ]
  },
  {
   "cell_type": "code",
   "execution_count": 42,
   "metadata": {},
   "outputs": [
    {
     "name": "stdout",
     "output_type": "stream",
     "text": [
      "<class 'pandas.core.frame.DataFrame'>\n",
      "RangeIndex: 32133 entries, 0 to 32132\n",
      "Data columns (total 29 columns):\n",
      " #   Column                     Non-Null Count  Dtype  \n",
      "---  ------                     --------------  -----  \n",
      " 0   title                      30084 non-null  object \n",
      " 1   url                        32133 non-null  object \n",
      " 2   price                      30756 non-null  float64\n",
      " 3   early_access               32133 non-null  int64  \n",
      " 4   item_id                    32133 non-null  int64  \n",
      " 5   developer                  28835 non-null  object \n",
      " 6   Web Publishing             32133 non-null  int64  \n",
      " 7   Indie                      32133 non-null  int64  \n",
      " 8   Education                  32133 non-null  int64  \n",
      " 9   Animation &amp; Modeling   32133 non-null  int64  \n",
      " 10  Early Access               32133 non-null  int64  \n",
      " 11  Photo Editing              32133 non-null  int64  \n",
      " 12  Utilities                  32133 non-null  int64  \n",
      " 13  Massively Multiplayer      32133 non-null  int64  \n",
      " 14  RPG                        32133 non-null  int64  \n",
      " 15  Casual                     32133 non-null  int64  \n",
      " 16  Software Training          32133 non-null  int64  \n",
      " 17  Accounting                 32133 non-null  int64  \n",
      " 18  Video Production           32133 non-null  int64  \n",
      " 19  Audio Production           32133 non-null  int64  \n",
      " 20  Adventure                  32133 non-null  int64  \n",
      " 21  Racing                     32133 non-null  int64  \n",
      " 22  Simulation                 32133 non-null  int64  \n",
      " 23  Sports                     32133 non-null  int64  \n",
      " 24  Strategy                   32133 non-null  int64  \n",
      " 25  Action                     32133 non-null  int64  \n",
      " 26  Design &amp; Illustration  32133 non-null  int64  \n",
      " 27  Free to Play               32133 non-null  int64  \n",
      " 28  release_year               29830 non-null  float64\n",
      "dtypes: float64(2), int64(24), object(3)\n",
      "memory usage: 7.1+ MB\n"
     ]
    }
   ],
   "source": [
    "df_steam.info()"
   ]
  },
  {
   "cell_type": "markdown",
   "metadata": {},
   "source": [
    "Es un archivo con una dimension grande de 7.1 MB. Esto se debe a que hay varias columnas que ayudan a la recomendacion de juegos, esto hace que cada genero sea una columna por eso tantas. "
   ]
  },
  {
   "cell_type": "markdown",
   "metadata": {},
   "source": [
    "- Datos faltantes"
   ]
  },
  {
   "cell_type": "code",
   "execution_count": 44,
   "metadata": {},
   "outputs": [
    {
     "name": "stdout",
     "output_type": "stream",
     "text": [
      "Hay valores faltantes en el DataFrame.\n",
      "Hay valores faltantes en 'title'.\n",
      "No hay valores faltantes en 'url'.\n",
      "Hay valores faltantes en 'price'.\n",
      "Hay valores faltantes en 'developer'.\n"
     ]
    }
   ],
   "source": [
    "valores_faltantes_totales = df_steam.isna().any().any()\n",
    "if valores_faltantes_totales:\n",
    "    print(\"Hay valores faltantes en el DataFrame.\")\n",
    "else:\n",
    "    print(\"No hay valores faltantes en el DataFrame.\")\n",
    "\n",
    "# Para verificar si hay valores faltantes en columnas específicas:\n",
    "valores_faltantes_columna1 = df_steam['title'].isna().any()\n",
    "valores_faltantes_columna2 = df_steam['url'].isna().any()\n",
    "valores_faltantes_columna3 = df_steam['price'].isna().any()\n",
    "valores_faltantes_columna4 = df_steam['developer'].isna().any()\n",
    "\n",
    "if valores_faltantes_columna1:\n",
    "    print(\"Hay valores faltantes en 'title'.\")\n",
    "else:\n",
    "    print(\"No hay valores faltantes en 'title'.\")\n",
    "\n",
    "if valores_faltantes_columna2:\n",
    "    print(\"Hay valores faltantes en 'url'.\")\n",
    "else:\n",
    "    print(\"No hay valores faltantes en 'url'.\")\n",
    "\n",
    "if valores_faltantes_columna3:\n",
    "    print(\"Hay valores faltantes en 'price'.\")\n",
    "else:\n",
    "    print(\"No hay valores faltantes en 'price'.\")\n",
    "\n",
    "if valores_faltantes_columna4:\n",
    "    print(\"Hay valores faltantes en 'developer'.\")\n",
    "else:\n",
    "    print(\"No hay valores faltantes en 'developer'.\")"
   ]
  },
  {
   "cell_type": "code",
   "execution_count": 63,
   "metadata": {},
   "outputs": [
    {
     "name": "stdout",
     "output_type": "stream",
     "text": [
      "Total de valores faltantes en el DataFrame:  931857\n"
     ]
    }
   ],
   "source": [
    "valores_faltantes = df_steam.isna().count().sum()\n",
    "print(\"Total de valores faltantes en el DataFrame: \", valores_faltantes)"
   ]
  },
  {
   "cell_type": "code",
   "execution_count": 64,
   "metadata": {},
   "outputs": [
    {
     "name": "stdout",
     "output_type": "stream",
     "text": [
      "Datos faltantes en 'title':  2049\n",
      "Datos faltantes en 'url':  0\n",
      "Datos faltantes en 'price':  1377\n",
      "Datos faltantes en 'developer':  3298\n"
     ]
    }
   ],
   "source": [
    "valores_faltantes_columna1 = df_steam['title'].isna().sum()\n",
    "print(\"Datos faltantes en 'title': \", valores_faltantes_columna1)\n",
    "\n",
    "valores_faltantes_columna2 = df_steam['url'].isna().sum()\n",
    "print(\"Datos faltantes en 'url': \", valores_faltantes_columna2)\n",
    "\n",
    "valores_faltantes_columna3 = df_steam['price'].isna().sum()\n",
    "print(\"Datos faltantes en 'price': \", valores_faltantes_columna3)\n",
    "\n",
    "valores_faltantes_columna4 = df_steam['developer'].isna().sum()\n",
    "print(\"Datos faltantes en 'developer': \", valores_faltantes_columna4)"
   ]
  },
  {
   "cell_type": "markdown",
   "metadata": {},
   "source": [
    " Conclusion duplicados: la unica compluna que no tiene datos duplicados es 'URL', en total hay '931857' contando las columnas de genero. Las tres columnas importantes falatan '55203' datos, 'title':  2078, 'price':  31985, 'developer':  21140"
   ]
  },
  {
   "cell_type": "markdown",
   "metadata": {},
   "source": [
    "- Datos duplicadso"
   ]
  },
  {
   "cell_type": "code",
   "execution_count": 65,
   "metadata": {},
   "outputs": [
    {
     "name": "stdout",
     "output_type": "stream",
     "text": [
      "No hay datos duplicados en el DataFrame.\n"
     ]
    }
   ],
   "source": [
    "hay_duplicados = df_steam.duplicated().any()\n",
    "\n",
    "if hay_duplicados:\n",
    "    print(\"Hay datos duplicados en el DataFrame.\")\n",
    "else:\n",
    "    print(\"No hay datos duplicados en el DataFrame.\")"
   ]
  },
  {
   "cell_type": "markdown",
   "metadata": {},
   "source": [
    "Conclusion falantes: No hay datos duplicados en el DataFrame."
   ]
  },
  {
   "cell_type": "markdown",
   "metadata": {},
   "source": [
    "- Datos atipicos"
   ]
  },
  {
   "cell_type": "markdown",
   "metadata": {},
   "source": [
    "Vemos si hay datos atipicos en los precios"
   ]
  },
  {
   "cell_type": "code",
   "execution_count": 66,
   "metadata": {},
   "outputs": [
    {
     "data": {
      "image/png": "[encoded data removed]",
      "text/plain": [
       "<Figure size 640x480 with 1 Axes>"
      ]
     },
     "metadata": {},
     "output_type": "display_data"
    },
    {
     "data": {
      "text/plain": [
       "7.0"
      ]
     },
     "execution_count": 66,
     "metadata": {},
     "output_type": "execute_result"
    }
   ],
   "source": [
    "df_steam['price'].plot(kind='box')\n",
    "plt.show()\n",
    "# Supongamos que tienes un DataFrame llamado df_reviews y quieres analizar 'columna1'\n",
    "columna3 = df_steam['price']\n",
    "Q1 = columna3.quantile(0.25)\n",
    "Q3 = columna3.quantile(0.75)\n",
    "IQR = Q3 - Q1\n",
    "IQR"
   ]
  },
  {
   "cell_type": "markdown",
   "metadata": {},
   "source": [
    "Vemos si hay datos atipicos en los años de lanzamineto."
   ]
  },
  {
   "cell_type": "code",
   "execution_count": 71,
   "metadata": {},
   "outputs": [
    {
     "data": {
      "image/png": "[encoded data removed]",
      "text/plain": [
       "<Figure size 640x480 with 1 Axes>"
      ]
     },
     "metadata": {},
     "output_type": "display_data"
    },
    {
     "data": {
      "text/plain": [
       "3.0"
      ]
     },
     "execution_count": 71,
     "metadata": {},
     "output_type": "execute_result"
    }
   ],
   "source": [
    "df_steam['release_year'].plot(kind='box')\n",
    "plt.show()\n",
    "# Supongamos que tienes un DataFrame llamado df_reviews y quieres analizar 'columna1'\n",
    "columna3 = df_steam['release_year']\n",
    "Q1 = columna3.quantile(0.25)\n",
    "Q3 = columna3.quantile(0.75)\n",
    "IQR = Q3 - Q1\n",
    "IQR"
   ]
  },
  {
   "cell_type": "markdown",
   "metadata": {},
   "source": [
    "Conclusion atipicos: se analizaron las columnas de los precios y se encontraron 7 valores atipicos. Tambien se analizo los años de lanzamiento y se veo que hay 3 juegos con años atipicos. "
   ]
  },
  {
   "cell_type": "markdown",
   "metadata": {},
   "source": [
    "                                                                                           EDA- ITEMS"
   ]
  },
  {
   "cell_type": "code",
   "execution_count": 68,
   "metadata": {},
   "outputs": [],
   "source": [
    "df_items = pd.read_parquet('items1.parquet')"
   ]
  },
  {
   "cell_type": "markdown",
   "metadata": {},
   "source": [
    "- Informacion"
   ]
  },
  {
   "cell_type": "code",
   "execution_count": 69,
   "metadata": {},
   "outputs": [
    {
     "data": {
      "text/html": [
       "<div>\n",
       "<style scoped>\n",
       "    .dataframe tbody tr th:only-of-type {\n",
       "        vertical-align: middle;\n",
       "    }\n",
       "\n",
       "    .dataframe tbody tr th {\n",
       "        vertical-align: top;\n",
       "    }\n",
       "\n",
       "    .dataframe thead th {\n",
       "        text-align: right;\n",
       "    }\n",
       "</style>\n",
       "<table border=\"1\" class=\"dataframe\">\n",
       "  <thead>\n",
       "    <tr style=\"text-align: right;\">\n",
       "      <th></th>\n",
       "      <th>item_id</th>\n",
       "      <th>playtime_forever</th>\n",
       "      <th>user_id</th>\n",
       "    </tr>\n",
       "  </thead>\n",
       "  <tbody>\n",
       "    <tr>\n",
       "      <th>3788771</th>\n",
       "      <td>315670</td>\n",
       "      <td>0</td>\n",
       "      <td>EvEm_Relic</td>\n",
       "    </tr>\n",
       "    <tr>\n",
       "      <th>580288</th>\n",
       "      <td>221100</td>\n",
       "      <td>5885</td>\n",
       "      <td>76561198054772649</td>\n",
       "    </tr>\n",
       "    <tr>\n",
       "      <th>3778112</th>\n",
       "      <td>219150</td>\n",
       "      <td>141</td>\n",
       "      <td>ramramram</td>\n",
       "    </tr>\n",
       "    <tr>\n",
       "      <th>5019097</th>\n",
       "      <td>239160</td>\n",
       "      <td>1123</td>\n",
       "      <td>Elizabeth_007</td>\n",
       "    </tr>\n",
       "    <tr>\n",
       "      <th>2190534</th>\n",
       "      <td>40800</td>\n",
       "      <td>114</td>\n",
       "      <td>76561197996613372</td>\n",
       "    </tr>\n",
       "    <tr>\n",
       "      <th>...</th>\n",
       "      <td>...</td>\n",
       "      <td>...</td>\n",
       "      <td>...</td>\n",
       "    </tr>\n",
       "    <tr>\n",
       "      <th>3509870</th>\n",
       "      <td>358280</td>\n",
       "      <td>0</td>\n",
       "      <td>sythilian</td>\n",
       "    </tr>\n",
       "    <tr>\n",
       "      <th>2391237</th>\n",
       "      <td>200510</td>\n",
       "      <td>129</td>\n",
       "      <td>PSDel</td>\n",
       "    </tr>\n",
       "    <tr>\n",
       "      <th>4925019</th>\n",
       "      <td>65780</td>\n",
       "      <td>0</td>\n",
       "      <td>ArekkusuRaku</td>\n",
       "    </tr>\n",
       "    <tr>\n",
       "      <th>2528404</th>\n",
       "      <td>304050</td>\n",
       "      <td>41</td>\n",
       "      <td>looongboy</td>\n",
       "    </tr>\n",
       "    <tr>\n",
       "      <th>5088604</th>\n",
       "      <td>730</td>\n",
       "      <td>53</td>\n",
       "      <td>76561198101003486</td>\n",
       "    </tr>\n",
       "  </tbody>\n",
       "</table>\n",
       "<p>515321 rows × 3 columns</p>\n",
       "</div>"
      ],
      "text/plain": [
       "        item_id  playtime_forever            user_id\n",
       "3788771  315670                 0         EvEm_Relic\n",
       "580288   221100              5885  76561198054772649\n",
       "3778112  219150               141          ramramram\n",
       "5019097  239160              1123      Elizabeth_007\n",
       "2190534   40800               114  76561197996613372\n",
       "...         ...               ...                ...\n",
       "3509870  358280                 0          sythilian\n",
       "2391237  200510               129              PSDel\n",
       "4925019   65780                 0       ArekkusuRaku\n",
       "2528404  304050                41          looongboy\n",
       "5088604     730                53  76561198101003486\n",
       "\n",
       "[515321 rows x 3 columns]"
      ]
     },
     "execution_count": 69,
     "metadata": {},
     "output_type": "execute_result"
    }
   ],
   "source": [
    "df_items"
   ]
  },
  {
   "cell_type": "code",
   "execution_count": 70,
   "metadata": {},
   "outputs": [
    {
     "name": "stdout",
     "output_type": "stream",
     "text": [
      "<class 'pandas.core.frame.DataFrame'>\n",
      "Index: 515321 entries, 3788771 to 5088604\n",
      "Data columns (total 3 columns):\n",
      " #   Column            Non-Null Count   Dtype \n",
      "---  ------            --------------   ----- \n",
      " 0   item_id           515321 non-null  object\n",
      " 1   playtime_forever  515321 non-null  int32 \n",
      " 2   user_id           515321 non-null  object\n",
      "dtypes: int32(1), object(2)\n",
      "memory usage: 13.8+ MB\n"
     ]
    }
   ],
   "source": [
    "df_items.info()"
   ]
  },
  {
   "cell_type": "markdown",
   "metadata": {},
   "source": [
    "En este archivo tiene la caracteristica de ser el mayor dimension con 13.8 MB. Hay tres columnas que registran '515321'. Este archivo contiene informacion de horas jugadas por usuarios."
   ]
  },
  {
   "cell_type": "markdown",
   "metadata": {},
   "source": [
    "- Datos faltantes"
   ]
  },
  {
   "cell_type": "code",
   "execution_count": 74,
   "metadata": {},
   "outputs": [
    {
     "name": "stdout",
     "output_type": "stream",
     "text": [
      "No hay valores faltantes en el DataFrame.\n",
      "No hay valores faltantes en 'item_id'.\n",
      "No hay valores faltantes en 'playtime_forever'.\n",
      "No hay valores faltantes en 'user_id'.\n"
     ]
    }
   ],
   "source": [
    "valores_faltantes_totales = df_items.isna().any().any()\n",
    "if valores_faltantes_totales:\n",
    "    print(\"Hay valores faltantes en el DataFrame.\")\n",
    "else:\n",
    "    print(\"No hay valores faltantes en el DataFrame.\")\n",
    "\n",
    "# Para verificar si hay valores faltantes en columnas específicas:\n",
    "valores_faltantes_columna1 = df_items['item_id'].isna().any()\n",
    "valores_faltantes_columna2 = df_items['playtime_forever'].isna().any()\n",
    "valores_faltantes_columna3 = df_items['user_id'].isna().any()\n",
    "\n",
    "\n",
    "if valores_faltantes_columna1:\n",
    "    print(\"Hay valores faltantes en 'item_id'.\")\n",
    "else:\n",
    "    print(\"No hay valores faltantes en 'item_id'.\")\n",
    "\n",
    "if valores_faltantes_columna2:\n",
    "    print(\"Hay valores faltantes en 'playtime_forever'.\")\n",
    "else:\n",
    "    print(\"No hay valores faltantes en 'playtime_forever'.\")\n",
    "\n",
    "if valores_faltantes_columna3:\n",
    "    print(\"Hay valores faltantes en 'user_id'.\")\n",
    "else:\n",
    "    print(\"No hay valores faltantes en 'user_id'.\")"
   ]
  },
  {
   "cell_type": "markdown",
   "metadata": {},
   "source": [
    "Conlcusion faltantes: No hay valores faltantes "
   ]
  },
  {
   "cell_type": "markdown",
   "metadata": {},
   "source": [
    "- Datos duplicados"
   ]
  },
  {
   "cell_type": "code",
   "execution_count": 75,
   "metadata": {},
   "outputs": [
    {
     "name": "stdout",
     "output_type": "stream",
     "text": [
      "Hay datos duplicados en el DataFrame.\n"
     ]
    }
   ],
   "source": [
    "hay_duplicados = df_items.duplicated().any()\n",
    "\n",
    "if hay_duplicados:\n",
    "    print(\"Hay datos duplicados en el DataFrame.\")\n",
    "else:\n",
    "    print(\"No hay datos duplicados en el DataFrame.\")"
   ]
  },
  {
   "cell_type": "code",
   "execution_count": 98,
   "metadata": {},
   "outputs": [
    {
     "name": "stdout",
     "output_type": "stream",
     "text": [
      "Total de datos duplicados en el DataFrame:  602\n"
     ]
    }
   ],
   "source": [
    "datos_duplicados = df_items.duplicated().sum()\n",
    "print(\"Total de datos duplicados en el DataFrame: \", datos_duplicados)"
   ]
  },
  {
   "cell_type": "code",
   "execution_count": 95,
   "metadata": {},
   "outputs": [
    {
     "name": "stdout",
     "output_type": "stream",
     "text": [
      "Datos duplicados en 'item_id':  506686\n",
      "Datos duplicados en 'playtime_forever':  497879\n",
      "Datos duplicados en 'user_id':  456288\n"
     ]
    }
   ],
   "source": [
    "datos_duplicados_columna1 = df_items['item_id'].duplicated().sum()\n",
    "print(\"Datos duplicados en 'item_id': \", datos_duplicados_columna1)\n",
    "\n",
    "datos_duplicados_columna2 = df_items['playtime_forever'].duplicated().sum()\n",
    "print(\"Datos duplicados en 'playtime_forever': \", datos_duplicados_columna2)\n",
    "\n",
    "datos_duplicados_columna3 = df_items['user_id'].duplicated().sum()\n",
    "print(\"Datos duplicados en 'user_id': \", datos_duplicados_columna3)"
   ]
  },
  {
   "cell_type": "markdown",
   "metadata": {},
   "source": [
    "Conclusion duplicados:  hay 'item_id':  506686, en 'playtime_forever':  497879, ultimo 'user_id':  456288."
   ]
  },
  {
   "cell_type": "markdown",
   "metadata": {},
   "source": [
    "- Datos atipicos"
   ]
  },
  {
   "cell_type": "code",
   "execution_count": 90,
   "metadata": {},
   "outputs": [
    {
     "data": {
      "image/png": "[encoded data removed]",
      "text/plain": [
       "<Figure size 640x480 with 1 Axes>"
      ]
     },
     "metadata": {},
     "output_type": "display_data"
    },
    {
     "data": {
      "text/plain": [
       "3.0"
      ]
     },
     "execution_count": 90,
     "metadata": {},
     "output_type": "execute_result"
    }
   ],
   "source": [
    "df_items['playtime_forever'].plot(kind='box')\n",
    "plt.show()\n",
    "# Supongamos que tienes un DataFrame llamado df_reviews y quieres analizar 'columna1'\n",
    "columna2 = df_items['playtime_forever']\n",
    "Q1 = columna3.quantile(0.25)\n",
    "Q3 = columna3.quantile(0.75)\n",
    "IQR = Q3 - Q1\n",
    "IQR"
   ]
  },
  {
   "cell_type": "markdown",
   "metadata": {},
   "source": [
    "Conclusion atipicos: solo hay tres juegos con horas atipicas jugadas."
   ]
  },
  {
   "cell_type": "markdown",
   "metadata": {},
   "source": [
    "                                                                                       EDA - GENRE"
   ]
  },
  {
   "cell_type": "code",
   "execution_count": 100,
   "metadata": {},
   "outputs": [],
   "source": [
    "df_genre = pd.read_csv('genre.csv')"
   ]
  },
  {
   "cell_type": "markdown",
   "metadata": {},
   "source": [
    "- Infromacion\n"
   ]
  },
  {
   "cell_type": "code",
   "execution_count": 101,
   "metadata": {},
   "outputs": [
    {
     "data": {
      "text/html": [
       "<div>\n",
       "<style scoped>\n",
       "    .dataframe tbody tr th:only-of-type {\n",
       "        vertical-align: middle;\n",
       "    }\n",
       "\n",
       "    .dataframe tbody tr th {\n",
       "        vertical-align: top;\n",
       "    }\n",
       "\n",
       "    .dataframe thead th {\n",
       "        text-align: right;\n",
       "    }\n",
       "</style>\n",
       "<table border=\"1\" class=\"dataframe\">\n",
       "  <thead>\n",
       "    <tr style=\"text-align: right;\">\n",
       "      <th></th>\n",
       "      <th>Unnamed: 0</th>\n",
       "      <th>Position</th>\n",
       "      <th>Total_Playtime</th>\n",
       "    </tr>\n",
       "  </thead>\n",
       "  <tbody>\n",
       "    <tr>\n",
       "      <th>0</th>\n",
       "      <td>Action</td>\n",
       "      <td>1</td>\n",
       "      <td>308031425</td>\n",
       "    </tr>\n",
       "    <tr>\n",
       "      <th>1</th>\n",
       "      <td>Indie</td>\n",
       "      <td>2</td>\n",
       "      <td>149668460</td>\n",
       "    </tr>\n",
       "    <tr>\n",
       "      <th>2</th>\n",
       "      <td>RPG</td>\n",
       "      <td>3</td>\n",
       "      <td>104706002</td>\n",
       "    </tr>\n",
       "    <tr>\n",
       "      <th>3</th>\n",
       "      <td>Adventure</td>\n",
       "      <td>4</td>\n",
       "      <td>90976514</td>\n",
       "    </tr>\n",
       "    <tr>\n",
       "      <th>4</th>\n",
       "      <td>Simulation</td>\n",
       "      <td>5</td>\n",
       "      <td>87269928</td>\n",
       "    </tr>\n",
       "    <tr>\n",
       "      <th>5</th>\n",
       "      <td>Strategy</td>\n",
       "      <td>6</td>\n",
       "      <td>65445185</td>\n",
       "    </tr>\n",
       "    <tr>\n",
       "      <th>6</th>\n",
       "      <td>Free to Play</td>\n",
       "      <td>7</td>\n",
       "      <td>60416106</td>\n",
       "    </tr>\n",
       "    <tr>\n",
       "      <th>7</th>\n",
       "      <td>Massively Multiplayer</td>\n",
       "      <td>8</td>\n",
       "      <td>44850584</td>\n",
       "    </tr>\n",
       "    <tr>\n",
       "      <th>8</th>\n",
       "      <td>Casual</td>\n",
       "      <td>9</td>\n",
       "      <td>26418670</td>\n",
       "    </tr>\n",
       "    <tr>\n",
       "      <th>9</th>\n",
       "      <td>Early Access</td>\n",
       "      <td>10</td>\n",
       "      <td>15735597</td>\n",
       "    </tr>\n",
       "    <tr>\n",
       "      <th>10</th>\n",
       "      <td>Sports</td>\n",
       "      <td>11</td>\n",
       "      <td>6625000</td>\n",
       "    </tr>\n",
       "    <tr>\n",
       "      <th>11</th>\n",
       "      <td>Racing</td>\n",
       "      <td>12</td>\n",
       "      <td>6320647</td>\n",
       "    </tr>\n",
       "    <tr>\n",
       "      <th>12</th>\n",
       "      <td>Design &amp;amp; Illustration</td>\n",
       "      <td>13</td>\n",
       "      <td>509952</td>\n",
       "    </tr>\n",
       "    <tr>\n",
       "      <th>13</th>\n",
       "      <td>Utilities</td>\n",
       "      <td>14</td>\n",
       "      <td>378625</td>\n",
       "    </tr>\n",
       "    <tr>\n",
       "      <th>14</th>\n",
       "      <td>Video Production</td>\n",
       "      <td>15</td>\n",
       "      <td>362073</td>\n",
       "    </tr>\n",
       "    <tr>\n",
       "      <th>15</th>\n",
       "      <td>Animation &amp;amp; Modeling</td>\n",
       "      <td>16</td>\n",
       "      <td>358921</td>\n",
       "    </tr>\n",
       "    <tr>\n",
       "      <th>16</th>\n",
       "      <td>Web Publishing</td>\n",
       "      <td>17</td>\n",
       "      <td>167477</td>\n",
       "    </tr>\n",
       "    <tr>\n",
       "      <th>17</th>\n",
       "      <td>Audio Production</td>\n",
       "      <td>18</td>\n",
       "      <td>31149</td>\n",
       "    </tr>\n",
       "    <tr>\n",
       "      <th>18</th>\n",
       "      <td>Software Training</td>\n",
       "      <td>19</td>\n",
       "      <td>21567</td>\n",
       "    </tr>\n",
       "    <tr>\n",
       "      <th>19</th>\n",
       "      <td>Education</td>\n",
       "      <td>20</td>\n",
       "      <td>16489</td>\n",
       "    </tr>\n",
       "    <tr>\n",
       "      <th>20</th>\n",
       "      <td>Photo Editing</td>\n",
       "      <td>21</td>\n",
       "      <td>3178</td>\n",
       "    </tr>\n",
       "    <tr>\n",
       "      <th>21</th>\n",
       "      <td>Accounting</td>\n",
       "      <td>22</td>\n",
       "      <td>0</td>\n",
       "    </tr>\n",
       "    <tr>\n",
       "      <th>22</th>\n",
       "      <td>item_id</td>\n",
       "      <td>23</td>\n",
       "      <td>0</td>\n",
       "    </tr>\n",
       "  </tbody>\n",
       "</table>\n",
       "</div>"
      ],
      "text/plain": [
       "                   Unnamed: 0  Position  Total_Playtime\n",
       "0                      Action         1       308031425\n",
       "1                       Indie         2       149668460\n",
       "2                         RPG         3       104706002\n",
       "3                   Adventure         4        90976514\n",
       "4                  Simulation         5        87269928\n",
       "5                    Strategy         6        65445185\n",
       "6                Free to Play         7        60416106\n",
       "7       Massively Multiplayer         8        44850584\n",
       "8                      Casual         9        26418670\n",
       "9                Early Access        10        15735597\n",
       "10                     Sports        11         6625000\n",
       "11                     Racing        12         6320647\n",
       "12  Design &amp; Illustration        13          509952\n",
       "13                  Utilities        14          378625\n",
       "14           Video Production        15          362073\n",
       "15   Animation &amp; Modeling        16          358921\n",
       "16             Web Publishing        17          167477\n",
       "17           Audio Production        18           31149\n",
       "18          Software Training        19           21567\n",
       "19                  Education        20           16489\n",
       "20              Photo Editing        21            3178\n",
       "21                 Accounting        22               0\n",
       "22                    item_id        23               0"
      ]
     },
     "execution_count": 101,
     "metadata": {},
     "output_type": "execute_result"
    }
   ],
   "source": [
    "df_genre"
   ]
  },
  {
   "cell_type": "code",
   "execution_count": 102,
   "metadata": {},
   "outputs": [
    {
     "name": "stdout",
     "output_type": "stream",
     "text": [
      "<class 'pandas.core.frame.DataFrame'>\n",
      "RangeIndex: 23 entries, 0 to 22\n",
      "Data columns (total 3 columns):\n",
      " #   Column          Non-Null Count  Dtype \n",
      "---  ------          --------------  ----- \n",
      " 0   Unnamed: 0      23 non-null     object\n",
      " 1   Position        23 non-null     int64 \n",
      " 2   Total_Playtime  23 non-null     int64 \n",
      "dtypes: int64(2), object(1)\n",
      "memory usage: 684.0+ bytes\n"
     ]
    }
   ],
   "source": [
    "df_genre.info()"
   ]
  },
  {
   "cell_type": "markdown",
   "metadata": {},
   "source": [
    "En este archivo vamos a encontras los generos con las posiciones dependiendo de las horas totales jugadas. "
   ]
  },
  {
   "cell_type": "markdown",
   "metadata": {},
   "source": [
    "- Datos faltantes"
   ]
  },
  {
   "cell_type": "code",
   "execution_count": 103,
   "metadata": {},
   "outputs": [
    {
     "name": "stdout",
     "output_type": "stream",
     "text": [
      "No hay valores faltantes en el DataFrame.\n",
      "No hay valores faltantes en 'Unnamed: 0'.\n",
      "No hay valores faltantes en 'Position'.\n",
      "No hay valores faltantes en 'Total_Playtime'.\n"
     ]
    }
   ],
   "source": [
    "valores_faltantes_totales = df_genre.isna().any().any()\n",
    "if valores_faltantes_totales:\n",
    "    print(\"Hay valores faltantes en el DataFrame.\")\n",
    "else:\n",
    "    print(\"No hay valores faltantes en el DataFrame.\")\n",
    "\n",
    "# Para verificar si hay valores faltantes en columnas específicas:\n",
    "valores_faltantes_columna1 = df_genre['Unnamed: 0'].isna().any()\n",
    "valores_faltantes_columna2 = df_genre['Position'].isna().any()\n",
    "valores_faltantes_columna3 = df_genre['Total_Playtime'].isna().any()\n",
    "\n",
    "\n",
    "if valores_faltantes_columna1:\n",
    "    print(\"Hay valores faltantes en 'Unnamed: 0'.\")\n",
    "else:\n",
    "    print(\"No hay valores faltantes en 'Unnamed: 0'.\")\n",
    "\n",
    "if valores_faltantes_columna2:\n",
    "    print(\"Hay valores faltantes en 'Position'.\")\n",
    "else:\n",
    "    print(\"No hay valores faltantes en 'Position'.\")\n",
    "\n",
    "if valores_faltantes_columna3:\n",
    "    print(\"Hay valores faltantes en 'Total_Playtime'.\")\n",
    "else:\n",
    "    print(\"No hay valores faltantes en 'Total_Playtime'.\")"
   ]
  },
  {
   "cell_type": "markdown",
   "metadata": {},
   "source": [
    "Conclusion faltantes: No hay datos faltantes"
   ]
  },
  {
   "cell_type": "markdown",
   "metadata": {},
   "source": [
    "- Datos duplicados"
   ]
  },
  {
   "cell_type": "code",
   "execution_count": 104,
   "metadata": {},
   "outputs": [
    {
     "name": "stdout",
     "output_type": "stream",
     "text": [
      "No hay datos duplicados en el DataFrame.\n"
     ]
    }
   ],
   "source": [
    "hay_duplicados = df_genre.duplicated().any()\n",
    "\n",
    "if hay_duplicados:\n",
    "    print(\"Hay datos duplicados en el DataFrame.\")\n",
    "else:\n",
    "    print(\"No hay datos duplicados en el DataFrame.\")"
   ]
  },
  {
   "cell_type": "markdown",
   "metadata": {},
   "source": [
    "Conclusion duplicados: No hay datos duplicados"
   ]
  },
  {
   "cell_type": "markdown",
   "metadata": {},
   "source": [
    "- Datos atipicos"
   ]
  },
  {
   "cell_type": "code",
   "execution_count": 105,
   "metadata": {},
   "outputs": [
    {
     "data": {
      "image/png": "[encoded data removed]",
      "text/plain": [
       "<Figure size 640x480 with 1 Axes>"
      ]
     },
     "metadata": {},
     "output_type": "display_data"
    },
    {
     "data": {
      "text/plain": [
       "3.0"
      ]
     },
     "execution_count": 105,
     "metadata": {},
     "output_type": "execute_result"
    }
   ],
   "source": [
    "df_genre['Total_Playtime'].plot(kind='box')\n",
    "plt.show()\n",
    "# Supongamos que tienes un DataFrame llamado df_reviews y quieres analizar 'columna1'\n",
    "columna2 = df_genre['Total_Playtime']\n",
    "Q1 = columna3.quantile(0.25)\n",
    "Q3 = columna3.quantile(0.75)\n",
    "IQR = Q3 - Q1\n",
    "IQR"
   ]
  },
  {
   "cell_type": "markdown",
   "metadata": {},
   "source": [
    "Conclusion atipicos: solo hay tres valores atipicos en cantidad de horas jugadas"
   ]
  }
 ],
 "metadata": {
  "kernelspec": {
   "display_name": "Python 3",
   "language": "python",
   "name": "python3"
  },
  "language_info": {
   "codemirror_mode": {
    "name": "ipython",
    "version": 3
   },
   "file_extension": ".py",
   "mimetype": "text/x-python",
   "name": "python",
   "nbconvert_exporter": "python",
   "pygments_lexer": "ipython3",
   "version": "3.12.0"
  }
 },
 "nbformat": 4,
 "nbformat_minor": 2
}
